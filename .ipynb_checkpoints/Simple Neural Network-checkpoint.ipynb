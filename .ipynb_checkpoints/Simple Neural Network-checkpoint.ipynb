{
 "cells": [
  {
   "cell_type": "code",
   "execution_count": 1,
   "metadata": {
    "collapsed": true
   },
   "outputs": [],
   "source": [
    "import numpy as np"
   ]
  },
  {
   "cell_type": "code",
   "execution_count": 11,
   "metadata": {
    "collapsed": false
   },
   "outputs": [],
   "source": [
    "# Collect Data\n",
    "x = np.array([[0,0,1],\n",
    "            [0,1,1],\n",
    "            [1,0,1],\n",
    "            [1,1,1]])\n",
    "\n",
    "y = np.array([[0],[1],[1],[0]])"
   ]
  },
  {
   "cell_type": "code",
   "execution_count": 12,
   "metadata": {
    "collapsed": false
   },
   "outputs": [
    {
     "name": "stdout",
     "output_type": "stream",
     "text": [
      "[[0 0 1]\n",
      " [0 1 1]\n",
      " [1 0 1]\n",
      " [1 1 1]]\n"
     ]
    }
   ],
   "source": [
    "print(x)"
   ]
  },
  {
   "cell_type": "code",
   "execution_count": 13,
   "metadata": {
    "collapsed": false
   },
   "outputs": [
    {
     "data": {
      "text/plain": [
       "(4, 3)"
      ]
     },
     "execution_count": 13,
     "metadata": {},
     "output_type": "execute_result"
    }
   ],
   "source": [
    "x.shape"
   ]
  },
  {
   "cell_type": "code",
   "execution_count": 14,
   "metadata": {
    "collapsed": false
   },
   "outputs": [
    {
     "data": {
      "text/plain": [
       "(4, 1)"
      ]
     },
     "execution_count": 14,
     "metadata": {},
     "output_type": "execute_result"
    }
   ],
   "source": [
    "y.shape"
   ]
  },
  {
   "cell_type": "code",
   "execution_count": 15,
   "metadata": {
    "collapsed": true
   },
   "outputs": [],
   "source": [
    "# build model\n",
    "num_epochs = 60000\n",
    "\n",
    "# initialize weights with normal distribution\n",
    "weights0 = 2*np.random.random((3,4)) - 1\n",
    "weights1 = 2*np.random.random((4,1)) - 1"
   ]
  },
  {
   "cell_type": "code",
   "execution_count": 16,
   "metadata": {
    "collapsed": false
   },
   "outputs": [
    {
     "name": "stdout",
     "output_type": "stream",
     "text": [
      "[[ 0.18784859 -0.99007916 -0.54732227 -0.59667472]\n",
      " [ 0.1032451   0.50508164  0.8841695   0.97999198]\n",
      " [ 0.62586901  0.08909046 -0.13452778 -0.47383132]]\n"
     ]
    }
   ],
   "source": [
    "print(weights0)"
   ]
  },
  {
   "cell_type": "code",
   "execution_count": 17,
   "metadata": {
    "collapsed": false
   },
   "outputs": [
    {
     "name": "stdout",
     "output_type": "stream",
     "text": [
      "[[-0.61885607]\n",
      " [ 0.49336601]\n",
      " [ 0.2198789 ]\n",
      " [-0.87949957]]\n"
     ]
    }
   ],
   "source": [
    "print(weights1)"
   ]
  },
  {
   "cell_type": "code",
   "execution_count": 18,
   "metadata": {
    "collapsed": true
   },
   "outputs": [],
   "source": [
    "def sigmoid(x, deriv=False):\n",
    "    #sigmoid function: squashes output probabilities with non-linearity\n",
    "    if(deriv==True):\n",
    "        #calculates derivative of sigmoid\n",
    "        return x*(1-x)\n",
    "    \n",
    "    return 1/(1+np.exp(-x))"
   ]
  },
  {
   "cell_type": "code",
   "execution_count": 20,
   "metadata": {
    "collapsed": false
   },
   "outputs": [
    {
     "name": "stdout",
     "output_type": "stream",
     "text": [
      "Error 0.00415096485508\n",
      "Error 0.00382815673895\n",
      "Error 0.00356928987855\n",
      "Error 0.00335578570836\n",
      "Error 0.00317582708788\n",
      "Error 0.00302149422474\n"
     ]
    }
   ],
   "source": [
    "# train model\n",
    "\n",
    "for j in range(num_epochs):\n",
    "    #feed forward through layers 0, 1 and 2\n",
    "    l0 = x #input layer\n",
    "    l1 = sigmoid(np.dot(l0, weights0)) #sigmoid output of dot product btw layer 0 and weights 0\n",
    "    l2 = sigmoid(np.dot(l1, weights1)) #sigmoid output of dot product btw layer 1 and weights 1\n",
    "    \n",
    "    l2_error = y - l2 #error for prediction\n",
    "    \n",
    "    if (j% 10000) == 0:\n",
    "        print(\"Error\", str(np.mean(np.abs(l2_error))))\n",
    "    \n",
    "    l2_delta = l2_error * sigmoid(l2, deriv=True) #error weighted gradient of output layer\n",
    "    \n",
    "    l1_error = l2_delta.dot(weights1.T)\n",
    "    \n",
    "    l1_delta = l1_error * sigmoid(l1, deriv=True)\n",
    "    weights1 += l1.T.dot(l2_delta)\n",
    "    weights0 += l0.T.dot(l1_delta)"
   ]
  }
 ],
 "metadata": {
  "kernelspec": {
   "display_name": "Python 3",
   "language": "python",
   "name": "python3"
  },
  "language_info": {
   "codemirror_mode": {
    "name": "ipython",
    "version": 3
   },
   "file_extension": ".py",
   "mimetype": "text/x-python",
   "name": "python",
   "nbconvert_exporter": "python",
   "pygments_lexer": "ipython3",
   "version": "3.5.2"
  }
 },
 "nbformat": 4,
 "nbformat_minor": 1
}
